{
 "cells": [
  {
   "cell_type": "code",
   "execution_count": null,
   "id": "2c550c4d",
   "metadata": {},
   "outputs": [],
   "source": [
    "pip install tensorflow opencv-python"
   ]
  },
  {
   "cell_type": "code",
   "execution_count": null,
   "id": "0fa96336",
   "metadata": {},
   "outputs": [],
   "source": [
    "import cv2\n",
    "import numpy as np\n",
    "from tensorflow.keras.applications.inception_v3 import InceptionV3, preprocess_input, decode_predictions\n",
    "from tensorflow.keras.preprocessing import image\n",
    "\n",
    "# Load the pre-trained InceptionV3 model\n",
    "model = InceptionV3(weights='imagenet')\n",
    "\n",
    "def preprocess_image(img_path):\n",
    "    img = image.load_img(img_path, target_size=(299, 299))\n",
    "    img_array = image.img_to_array(img)\n",
    "    img_array = np.expand_dims(img_array, axis=0)\n",
    "    img_array = preprocess_input(img_array)\n",
    "    return img_array\n",
    "\n",
    "def predict_skin_disease(img_path):\n",
    "    img_array = preprocess_image(img_path)\n",
    "    predictions = model.predict(img_array)\n",
    "    decoded_predictions = decode_predictions(predictions)[0]\n",
    "    top_prediction = decoded_predictions[0]\n",
    "    return top_prediction\n",
    "\n",
    "def display_result(img_path, result):\n",
    "    img = cv2.imread(img_path)\n",
    "    cv2.imshow(\"Skin Disease Image\", img)\n",
    "    print(f\"Prediction: {result[1]}, Confidence: {result[2]*100:.2f}%\")\n",
    "    cv2.waitKey(0)\n",
    "    cv2.destroyAllWindows()\n",
    "\n",
    "if _name_ == \"_main_\":\n",
    "    # Replace 'your_image.jpg' with the path to your skin disease image\n",
    "    image_path = 'skin.jpg'\n",
    "    prediction_result = predict_skin_disease(image_path)\n",
    "    display_result(image_path, prediction_result)"
   ]
  },
  {
   "cell_type": "code",
   "execution_count": null,
   "id": "a5048e2e",
   "metadata": {},
   "outputs": [],
   "source": []
  }
 ],
 "metadata": {
  "kernelspec": {
   "display_name": "Python 3 (ipykernel)",
   "language": "python",
   "name": "python3"
  },
  "language_info": {
   "codemirror_mode": {
    "name": "ipython",
    "version": 3
   },
   "file_extension": ".py",
   "mimetype": "text/x-python",
   "name": "python",
   "nbconvert_exporter": "python",
   "pygments_lexer": "ipython3",
   "version": "3.9.7"
  }
 },
 "nbformat": 4,
 "nbformat_minor": 5
}
